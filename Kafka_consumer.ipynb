{
 "cells": [
  {
   "cell_type": "code",
   "execution_count": 0,
   "metadata": {
    "application/vnd.databricks.v1+cell": {
     "cellMetadata": {},
     "inputWidgets": {},
     "nuid": "291baab1-e095-487e-9a80-bbb227cff00f",
     "showTitle": false,
     "tableResultSettingsMap": {},
     "title": ""
    }
   },
   "outputs": [],
   "source": [
    "# Databricks notebook source code\n",
    "from pyspark.sql.functions import col, struct, from_json\n",
    "from pyspark.sql.types import StructField, StructType, StringType"
   ]
  },
  {
   "cell_type": "code",
   "execution_count": 0,
   "metadata": {
    "application/vnd.databricks.v1+cell": {
     "cellMetadata": {},
     "inputWidgets": {},
     "nuid": "b28d701d-71f9-47b8-8b4a-03ca830cc052",
     "showTitle": false,
     "tableResultSettingsMap": {},
     "title": ""
    }
   },
   "outputs": [],
   "source": [
    "df = spark \\\n",
    "     .readStream \\\n",
    "     .format(\"kafka\") \\\n",
    "     .option(\"kafka.bootstrap.servers\", \"SERVERNAME-HERE\") \\\n",
    "     .option(\"subscribe\", \"topic_name\") \\\n",
    "     .option(\"maxOffsetsPerTrigger\", \"10\")\\\n",
    "     .option(\"kafka.security.protocol\",\"SASL_SSL\") \\\n",
    "     .option(\"kafka.sasl.mechanism\", \"PLAIN\") \\\n",
    "     .option(\"kafka.sasl.jaas.config\", \"\"\"kafkashaded.org.apache.kafka.common.security.plain.PlainLoginModule required username=\"USERNAME-HERE\" password=\"PASSWORD-HERE\";\"\"\") \\\n",
    "    .load()"
   ]
  },
  {
   "cell_type": "code",
   "execution_count": 0,
   "metadata": {
    "application/vnd.databricks.v1+cell": {
     "cellMetadata": {},
     "inputWidgets": {},
     "nuid": "d9c60274-3fde-415d-aec5-2ff4348548cc",
     "showTitle": false,
     "tableResultSettingsMap": {},
     "title": ""
    }
   },
   "outputs": [],
   "source": [
    "source_file_schema = StructType(\n",
    "  [\n",
    "    StructField(\"customer_id\", StringType(), True),\n",
    "    StructField(\"month\", StringType(), True),\n",
    "    StructField(\"category\", StringType(), True),\n",
    "    StructField(\"payment_type\", StringType(), True),\n",
    "    StructField(\"spend\", StringType(), True),\n",
    "    StructField(\"transaction_id\", StringType(), True)\n",
    "  ]\n",
    ")"
   ]
  },
  {
   "cell_type": "code",
   "execution_count": 0,
   "metadata": {
    "application/vnd.databricks.v1+cell": {
     "cellMetadata": {},
     "inputWidgets": {},
     "nuid": "d61843be-9b5f-4a94-808e-8d97c8ccc3ad",
     "showTitle": false,
     "tableResultSettingsMap": {},
     "title": ""
    }
   },
   "outputs": [],
   "source": [
    "df_data = df.withColumn(\n",
    "    \"value\", from_json(col(\"value\").cast(\"string\"), source_file_schema)\n",
    ").select(\n",
    "    col(\"value.customer_id\"),\n",
    "    col(\"value.month\"),\n",
    "    col(\"value.category\"),\n",
    "    col(\"value.payment_type\"),\n",
    "    col(\"value.spend\"),\n",
    "    col(\"value.transaction_id\")\n",
    ")\n"
   ]
  },
  {
   "cell_type": "code",
   "execution_count": 0,
   "metadata": {
    "application/vnd.databricks.v1+cell": {
     "cellMetadata": {},
     "inputWidgets": {},
     "nuid": "77fcc14e-7a16-4430-b41b-b6c3f69b5571",
     "showTitle": false,
     "tableResultSettingsMap": {},
     "title": ""
    }
   },
   "outputs": [],
   "source": [
    "spark.conf.set(\n",
    "    \"fs.azure.account.key.<storage-account-name>.dfs.core.windows.net\",\n",
    "    \"<storage-acount-key>\"\n",
    ")"
   ]
  },
  {
   "cell_type": "code",
   "execution_count": 0,
   "metadata": {
    "application/vnd.databricks.v1+cell": {
     "cellMetadata": {},
     "inputWidgets": {},
     "nuid": "e1da5793-415e-4e3b-8afb-dd7cfb0e7c1b",
     "showTitle": false,
     "tableResultSettingsMap": {},
     "title": ""
    }
   },
   "outputs": [],
   "source": [
    "output_path = 'abfss://<container-name>@<stroarge-account-name>.dfs.core.windows.net/sink'\n",
    "checkpoint_location = 'abfss://<container-name>@<stroarge-account-name>.dfs.core.windows.net/checkpoint'\n",
    "\n",
    "streaming_query = (\n",
    "    df_data.writeStream\n",
    "    .format(\"csv\")\n",
    "    .option(\"path\", output_path)\n",
    "    .option(\"header\", True)\n",
    "    .option(\"checkpointLocation\", checkpoint_location)\n",
    "    .start()\n",
    ")\n",
    "\n",
    "display(df_data)\n"
   ]
  }
 ],
 "metadata": {
  "application/vnd.databricks.v1+notebook": {
   "dashboards": [],
   "environmentMetadata": null,
   "language": "python",
   "notebookMetadata": {
    "pythonIndentUnit": 2
   },
   "notebookName": "Kafka_consumer",
   "widgets": {}
  }
 },
 "nbformat": 4,
 "nbformat_minor": 0
}
